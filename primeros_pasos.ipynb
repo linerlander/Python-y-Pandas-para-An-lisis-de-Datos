{
 "cells": [
  {
   "cell_type": "markdown",
   "metadata": {},
   "source": [
    "# <p style=\"background-color:#192B35;font-family:Creepster,cursive;color:#ffffff;font-size:120%;text-align:center;border-radius:10px 10px;\">🚀 Python y Pandas para Principiantes 🐍</p>\n",
    "---"
   ]
  },
  {
   "cell_type": "markdown",
   "metadata": {},
   "source": [
    "[![Banner-Charla-Danilo.png](https://i.postimg.cc/43Yt0186/Banner-Charla-Danilo.png)](https://postimg.cc/xkScJLV8)"
   ]
  },
  {
   "cell_type": "markdown",
   "metadata": {},
   "source": [
    "<div class=\"alert alert-block alert-info\" style=\"margin-top: 20px\">\n",
    "\n",
    "<font size = 3>\n",
    "    \n",
    "1. <a href=\"#sec_1\">Variables y Tipos de Datos</a>  \n",
    "2. <a href=\"#sec_2\">Operadores</a>  \n",
    "3. <a href=\"#sec_3\">Estructuras de Control de Flujo</a>\n",
    "4. <a href=\"#sec_4\">Estructura de Datos</a>  \n",
    "5. <a href=\"#sec_5\">Entrada y Salida de Datos</a>\n",
    "6. <a href=\"#sec_6\">Introducción a la libreria Pandas</a>    \n",
    "\n",
    " \n",
    "</font>\n",
    "</div>"
   ]
  },
  {
   "cell_type": "markdown",
   "metadata": {},
   "source": [
    "`🚀 Primeros Pasos en Python para Analisis de Datos 🚀`\n",
    "\n",
    "En el fascinante mundo del Analisis de Datos, Python es la llave que abre un sinfín de posibilidades. 🔑 Este proyecto te guiará a través de los fundamentos de Python para el análisis de datos, desde la creación de **variables** 📝 y el uso de **operadores** ➕➖ hasta las **estructuras de control** 🔁 que permiten manejar el flujo de tu código. También explorarás **estructuras de datos** 📚 y aprenderás a interactuar con el usuario mediante **entradas y salidas de datos** 📥📤.\n",
    "\n",
    "Finalmente, te adentrarás en **Pandas** 🐼, una biblioteca fundamental para la manipulación y visualización de datos 📊. Con este conocimiento, estarás listo para transformar datos en información valiosa y seguir avanzando en el mundo de Analisis de Datos. 📈✨\n",
    "\n",
    "¡Bienvenido a un viaje donde cada línea de código te acercará a comprender el poder de los datos! 🌐🚀"
   ]
  },
  {
   "cell_type": "markdown",
   "metadata": {},
   "source": [
    "<a id='sec_1'></a>\n",
    "## `1. Comentarios, Variables  y Tipos de Datos`\n",
    "\n",
    "En esta sección, aprenderás a trabajar con las variables y los tipos de datos básicos en Python.\n",
    "\n",
    "1. **Comentar tu código:** Los comentarios ayudan a que tu código sea más comprensible para ti y para otros, explicando la función de cada parte.\n",
    "\n",
    "2. **Definir y asignar variables:** Entender cómo crear y asignar variables en Python para almacenar información.\n",
    "\n",
    "3. **Tipos de datos primitivos:** Familiarizarte con los tipos de datos más comunes en Python: `int` (números enteros), `float` (números decimales), `str` (cadenas de texto), `bool` (valores booleanos)."
   ]
  },
  {
   "cell_type": "markdown",
   "metadata": {},
   "source": [
    "**1.1. Comentar tu código**"
   ]
  },
  {
   "cell_type": "code",
   "execution_count": 520,
   "metadata": {},
   "outputs": [],
   "source": [
    "# Esto es un comentario de una sola línea"
   ]
  },
  {
   "cell_type": "code",
   "execution_count": 521,
   "metadata": {},
   "outputs": [],
   "source": [
    "edad = 25  # Comentario al final de una línea de código"
   ]
  },
  {
   "cell_type": "code",
   "execution_count": 523,
   "metadata": {},
   "outputs": [
    {
     "data": {
      "text/plain": [
       "'\\nComentario de varias líneas,\\naunque suele utilizarse para documentar funciones o clases.\\n\\n'"
      ]
     },
     "execution_count": 523,
     "metadata": {},
     "output_type": "execute_result"
    }
   ],
   "source": [
    "\"\"\"\n",
    "Comentario de varias líneas,\n",
    "aunque suele utilizarse para documentar funciones o clases.\n",
    "\n",
    "\"\"\""
   ]
  },
  {
   "cell_type": "code",
   "execution_count": 433,
   "metadata": {},
   "outputs": [],
   "source": [
    "def suma(a, b):\n",
    "    \"\"\"\n",
    "    Calcula la suma de dos números.\n",
    "\n",
    "    Parámetros:\n",
    "    a (int o float): El primer número.\n",
    "    b (int o float): El segundo número.\n",
    "\n",
    "    Retorna:\n",
    "    int o float: La suma de a y b.\n",
    "    \"\"\"\n",
    "    return a + b"
   ]
  },
  {
   "cell_type": "markdown",
   "metadata": {},
   "source": [
    "**1.1. Definir y asignar variables**"
   ]
  },
  {
   "cell_type": "code",
   "execution_count": 524,
   "metadata": {},
   "outputs": [],
   "source": [
    "# Valor entero\n",
    "edad = 25"
   ]
  },
  {
   "cell_type": "code",
   "execution_count": 528,
   "metadata": {},
   "outputs": [
    {
     "data": {
      "text/plain": [
       "25"
      ]
     },
     "execution_count": 528,
     "metadata": {},
     "output_type": "execute_result"
    }
   ],
   "source": [
    "edad"
   ]
  },
  {
   "cell_type": "code",
   "execution_count": 529,
   "metadata": {},
   "outputs": [],
   "source": [
    "# Valor decimal (float)\n",
    "altura = 1.75"
   ]
  },
  {
   "cell_type": "code",
   "execution_count": 530,
   "metadata": {},
   "outputs": [
    {
     "data": {
      "text/plain": [
       "1.75"
      ]
     },
     "execution_count": 530,
     "metadata": {},
     "output_type": "execute_result"
    }
   ],
   "source": [
    "altura"
   ]
  },
  {
   "cell_type": "code",
   "execution_count": 531,
   "metadata": {},
   "outputs": [],
   "source": [
    "# Cadena de texto (str)\n",
    "nombre = \"Ana\""
   ]
  },
  {
   "cell_type": "code",
   "execution_count": 532,
   "metadata": {},
   "outputs": [
    {
     "name": "stdout",
     "output_type": "stream",
     "text": [
      "Ana\n"
     ]
    }
   ],
   "source": [
    "print(nombre)"
   ]
  },
  {
   "cell_type": "code",
   "execution_count": 533,
   "metadata": {},
   "outputs": [],
   "source": [
    "# Valor booleano\n",
    "es_estudiante = True"
   ]
  },
  {
   "cell_type": "code",
   "execution_count": 534,
   "metadata": {},
   "outputs": [
    {
     "data": {
      "text/plain": [
       "True"
      ]
     },
     "execution_count": 534,
     "metadata": {},
     "output_type": "execute_result"
    }
   ],
   "source": [
    "es_estudiante"
   ]
  },
  {
   "cell_type": "code",
   "execution_count": 438,
   "metadata": {},
   "outputs": [],
   "source": [
    "# Valor CONSTANTE\n",
    "MY_CONSTANTE = 'Mi constante'"
   ]
  },
  {
   "cell_type": "markdown",
   "metadata": {},
   "source": [
    "**1.2. Identificar tipos de datos**"
   ]
  },
  {
   "cell_type": "code",
   "execution_count": 536,
   "metadata": {},
   "outputs": [
    {
     "data": {
      "text/plain": [
       "int"
      ]
     },
     "execution_count": 536,
     "metadata": {},
     "output_type": "execute_result"
    }
   ],
   "source": [
    "type(edad)"
   ]
  },
  {
   "cell_type": "code",
   "execution_count": 537,
   "metadata": {},
   "outputs": [
    {
     "name": "stdout",
     "output_type": "stream",
     "text": [
      "<class 'float'>\n"
     ]
    }
   ],
   "source": [
    "print(type(altura))"
   ]
  },
  {
   "cell_type": "code",
   "execution_count": 538,
   "metadata": {},
   "outputs": [
    {
     "name": "stdout",
     "output_type": "stream",
     "text": [
      "<class 'str'>\n"
     ]
    }
   ],
   "source": [
    "print(type(nombre))"
   ]
  },
  {
   "cell_type": "code",
   "execution_count": 539,
   "metadata": {},
   "outputs": [
    {
     "name": "stdout",
     "output_type": "stream",
     "text": [
      "<class 'bool'>\n"
     ]
    }
   ],
   "source": [
    "print(type(es_estudiante))"
   ]
  },
  {
   "cell_type": "code",
   "execution_count": 540,
   "metadata": {},
   "outputs": [
    {
     "name": "stdout",
     "output_type": "stream",
     "text": [
      "<class 'str'>\n"
     ]
    }
   ],
   "source": [
    "print(type(MY_CONSTANTE))"
   ]
  },
  {
   "cell_type": "markdown",
   "metadata": {},
   "source": [
    "<a id='sec_2'></a>\n",
    "## `2. Operadores`\n",
    "\n",
    "En esta sección, aprenderás a trabajar con los diferentes tipos de operadores aritmeticos, de comparación, logicos, asignacion, identidad, pertenencia.\n",
    "\n",
    "1. **Operadores aritmeticos:** Permiten realizar operaciones matemáticas básicas, como suma (`+`), resta (`-`), multiplicación (`*`), división (`/`), módulo (`%`), y potenciación (`**`).\n",
    "\n",
    "2. **Operadores de comparación:**  Comparan valores y devuelven True o False, como `==` , `!=` (diferente de), `>` (mayor que), `<` (menor que), `>=` (mayor o igual que) y `<=` (menor o igual que).\n",
    "\n",
    "3. **Operadores logicos:** Usados para combinar condiciones lógicas. Incluyen `and`, `or` y `not`.\n",
    "\n",
    "4. **Operadores de asignacion:** Usados para asignar valores a variables, como `=`. También incluyen `+=`, `-=`, `*=`, `/=`.\n",
    "\n",
    "5. **Operadores de identidad:** Determinan si dos variables apuntan al `mismo objeto en memoria`. Incluyen `is` (devuelve True si son el mismo objeto) y `is not` (devuelve True si no lo son).\n",
    "\n",
    "6. **Operadores de pertenencia:** Verifican si un valor se encuentra dentro de una secuencia (como una lista o cadena). Incluyen `in` y `not in."
   ]
  },
  {
   "cell_type": "markdown",
   "metadata": {},
   "source": [
    "**2.1 Operadores aritmeticos**"
   ]
  },
  {
   "cell_type": "code",
   "execution_count": 541,
   "metadata": {},
   "outputs": [],
   "source": [
    "a = 5\n",
    "b = 3"
   ]
  },
  {
   "cell_type": "code",
   "execution_count": 544,
   "metadata": {},
   "outputs": [
    {
     "name": "stdout",
     "output_type": "stream",
     "text": [
      "Suma: 8\n"
     ]
    }
   ],
   "source": [
    "resultado_suma = a + b\n",
    "print(\"Suma:\", resultado_suma)"
   ]
  },
  {
   "cell_type": "code",
   "execution_count": 543,
   "metadata": {},
   "outputs": [
    {
     "name": "stdout",
     "output_type": "stream",
     "text": [
      "suma: 8\n"
     ]
    }
   ],
   "source": [
    "print(f'suma: {resultado_suma}')"
   ]
  },
  {
   "cell_type": "code",
   "execution_count": 545,
   "metadata": {},
   "outputs": [
    {
     "name": "stdout",
     "output_type": "stream",
     "text": [
      "Resta: 2\n"
     ]
    }
   ],
   "source": [
    "resultado_resta = a - b\n",
    "print(\"Resta:\", resultado_resta)"
   ]
  },
  {
   "cell_type": "code",
   "execution_count": 547,
   "metadata": {},
   "outputs": [
    {
     "name": "stdout",
     "output_type": "stream",
     "text": [
      "Multiplicación: 15\n"
     ]
    }
   ],
   "source": [
    "resultado_multiplicacion = a * b\n",
    "print(\"Multiplicación:\", resultado_multiplicacion)"
   ]
  },
  {
   "cell_type": "code",
   "execution_count": 549,
   "metadata": {},
   "outputs": [
    {
     "name": "stdout",
     "output_type": "stream",
     "text": [
      "División: 1.6666666666666667\n"
     ]
    }
   ],
   "source": [
    "resultado_division = a / b\n",
    "print(\"División:\", resultado_division)"
   ]
  },
  {
   "cell_type": "code",
   "execution_count": 550,
   "metadata": {},
   "outputs": [
    {
     "name": "stdout",
     "output_type": "stream",
     "text": [
      "División Entera: 1\n"
     ]
    }
   ],
   "source": [
    "resultado_division_entera = a // b\n",
    "print(\"División Entera:\", resultado_division_entera)"
   ]
  },
  {
   "cell_type": "code",
   "execution_count": 551,
   "metadata": {},
   "outputs": [
    {
     "name": "stdout",
     "output_type": "stream",
     "text": [
      "Módulo: 2\n"
     ]
    }
   ],
   "source": [
    "resultado_modulo = a % b\n",
    "print(\"Módulo:\", resultado_modulo)"
   ]
  },
  {
   "cell_type": "code",
   "execution_count": 552,
   "metadata": {},
   "outputs": [
    {
     "name": "stdout",
     "output_type": "stream",
     "text": [
      "Potencia: 125\n"
     ]
    }
   ],
   "source": [
    "resultado_potencia = a ** b\n",
    "print(\"Potencia:\", resultado_potencia)"
   ]
  },
  {
   "cell_type": "markdown",
   "metadata": {},
   "source": [
    "**2.2 Operadores comparación**"
   ]
  },
  {
   "cell_type": "code",
   "execution_count": 553,
   "metadata": {},
   "outputs": [],
   "source": [
    "a = 5\n",
    "b = 3"
   ]
  },
  {
   "cell_type": "code",
   "execution_count": 554,
   "metadata": {},
   "outputs": [
    {
     "name": "stdout",
     "output_type": "stream",
     "text": [
      "Igual a: False\n"
     ]
    }
   ],
   "source": [
    "resultado_igual = a == b\n",
    "print(\"Igual a:\", resultado_igual)"
   ]
  },
  {
   "cell_type": "code",
   "execution_count": 555,
   "metadata": {},
   "outputs": [
    {
     "name": "stdout",
     "output_type": "stream",
     "text": [
      "Diferente de: True\n"
     ]
    }
   ],
   "source": [
    "resultado_diferente = a != b\n",
    "print(\"Diferente de:\", resultado_diferente)"
   ]
  },
  {
   "cell_type": "code",
   "execution_count": 556,
   "metadata": {},
   "outputs": [
    {
     "name": "stdout",
     "output_type": "stream",
     "text": [
      "Mayor que: True\n"
     ]
    }
   ],
   "source": [
    "resultado_mayor = a > b\n",
    "print(\"Mayor que:\", resultado_mayor)"
   ]
  },
  {
   "cell_type": "code",
   "execution_count": 557,
   "metadata": {},
   "outputs": [
    {
     "name": "stdout",
     "output_type": "stream",
     "text": [
      "Menor que: False\n"
     ]
    }
   ],
   "source": [
    "resultado_menor = a < b\n",
    "print(\"Menor que:\", resultado_menor)  # Salida: False"
   ]
  },
  {
   "cell_type": "code",
   "execution_count": 558,
   "metadata": {},
   "outputs": [
    {
     "name": "stdout",
     "output_type": "stream",
     "text": [
      "Mayor o igual que: True\n"
     ]
    }
   ],
   "source": [
    "resultado_mayor_igual = a >= b\n",
    "print(\"Mayor o igual que:\", resultado_mayor_igual)"
   ]
  },
  {
   "cell_type": "code",
   "execution_count": 559,
   "metadata": {},
   "outputs": [
    {
     "name": "stdout",
     "output_type": "stream",
     "text": [
      "Menor o igual que: False\n"
     ]
    }
   ],
   "source": [
    "resultado_menor_igual = a <= b\n",
    "print(\"Menor o igual que:\", resultado_menor_igual)"
   ]
  },
  {
   "cell_type": "markdown",
   "metadata": {},
   "source": [
    "**2.3 Operadores Logicos**"
   ]
  },
  {
   "cell_type": "code",
   "execution_count": 560,
   "metadata": {},
   "outputs": [],
   "source": [
    "a = 10\n",
    "b = 5"
   ]
  },
  {
   "cell_type": "code",
   "execution_count": 562,
   "metadata": {},
   "outputs": [
    {
     "name": "stdout",
     "output_type": "stream",
     "text": [
      "AND: True\n"
     ]
    }
   ],
   "source": [
    "print(\"AND:\", (a > b) and (a > 0))"
   ]
  },
  {
   "cell_type": "code",
   "execution_count": 563,
   "metadata": {},
   "outputs": [
    {
     "name": "stdout",
     "output_type": "stream",
     "text": [
      "OR: True\n"
     ]
    }
   ],
   "source": [
    "print(\"OR:\", (a > b) or (a < 0))"
   ]
  },
  {
   "cell_type": "code",
   "execution_count": 564,
   "metadata": {},
   "outputs": [
    {
     "name": "stdout",
     "output_type": "stream",
     "text": [
      "NOT: False\n"
     ]
    }
   ],
   "source": [
    "print(\"NOT:\", not (a > b)) "
   ]
  },
  {
   "cell_type": "markdown",
   "metadata": {},
   "source": [
    "**2.4 Operadores de asignacion**"
   ]
  },
  {
   "cell_type": "code",
   "execution_count": 565,
   "metadata": {},
   "outputs": [],
   "source": [
    "x = 10"
   ]
  },
  {
   "cell_type": "code",
   "execution_count": 566,
   "metadata": {},
   "outputs": [
    {
     "name": "stdout",
     "output_type": "stream",
     "text": [
      "Asignación = 10\n"
     ]
    }
   ],
   "source": [
    "print(\"Asignación =\", x) "
   ]
  },
  {
   "cell_type": "code",
   "execution_count": 575,
   "metadata": {},
   "outputs": [
    {
     "name": "stdout",
     "output_type": "stream",
     "text": [
      "Suma y asignación (+=): 55\n"
     ]
    }
   ],
   "source": [
    "x += 5  # Equivalente a x = x + 5\n",
    "print(\"Suma y asignación (+=):\", x)"
   ]
  },
  {
   "cell_type": "code",
   "execution_count": 578,
   "metadata": {},
   "outputs": [
    {
     "name": "stdout",
     "output_type": "stream",
     "text": [
      "Resta y asignación (-=): 46\n"
     ]
    }
   ],
   "source": [
    "x -= 3  # Equivalente a x = x - 3\n",
    "print(\"Resta y asignación (-=):\", x)"
   ]
  },
  {
   "cell_type": "code",
   "execution_count": 580,
   "metadata": {},
   "outputs": [
    {
     "name": "stdout",
     "output_type": "stream",
     "text": [
      "Multiplicación y asignación (*=): 184\n"
     ]
    }
   ],
   "source": [
    "x *= 2  # Equivalente a x = x * 2\n",
    "print(\"Multiplicación y asignación (*=):\", x)"
   ]
  },
  {
   "cell_type": "code",
   "execution_count": 582,
   "metadata": {},
   "outputs": [
    {
     "name": "stdout",
     "output_type": "stream",
     "text": [
      "División y asignación (/=): 11.5\n"
     ]
    }
   ],
   "source": [
    "x /= 4  # Equivalente a x = x / 4\n",
    "print(\"División y asignación (/=):\", x)"
   ]
  },
  {
   "cell_type": "code",
   "execution_count": 583,
   "metadata": {},
   "outputs": [
    {
     "name": "stdout",
     "output_type": "stream",
     "text": [
      "Módulo y asignación (%=): 1.5\n"
     ]
    }
   ],
   "source": [
    "x %= 5  # Equivalente a x = x % 5\n",
    "print(\"Módulo y asignación (%=):\", x)"
   ]
  },
  {
   "cell_type": "code",
   "execution_count": 584,
   "metadata": {},
   "outputs": [
    {
     "name": "stdout",
     "output_type": "stream",
     "text": [
      "Potenciación y asignación (**=): 3.375\n"
     ]
    }
   ],
   "source": [
    "x **= 3  # Equivalente a x = x ** 3\n",
    "print(\"Potenciación y asignación (**=):\", x)"
   ]
  },
  {
   "cell_type": "code",
   "execution_count": 585,
   "metadata": {},
   "outputs": [
    {
     "name": "stdout",
     "output_type": "stream",
     "text": [
      "División entera y asignación (//=): 1.0\n"
     ]
    }
   ],
   "source": [
    "x //= 2  # Equivalente a x = x // 2\n",
    "print(\"División entera y asignación (//=):\", x)"
   ]
  },
  {
   "cell_type": "markdown",
   "metadata": {},
   "source": [
    "**2.5 Operadores de identidad**"
   ]
  },
  {
   "cell_type": "code",
   "execution_count": 594,
   "metadata": {},
   "outputs": [],
   "source": [
    "a = [1, 2, 3]\n",
    "b = a \n",
    "c = [1, 2, 3]"
   ]
  },
  {
   "cell_type": "code",
   "execution_count": 595,
   "metadata": {},
   "outputs": [
    {
     "data": {
      "text/plain": [
       "[1, 2, 3]"
      ]
     },
     "execution_count": 595,
     "metadata": {},
     "output_type": "execute_result"
    }
   ],
   "source": [
    "c"
   ]
  },
  {
   "cell_type": "code",
   "execution_count": 596,
   "metadata": {},
   "outputs": [
    {
     "name": "stdout",
     "output_type": "stream",
     "text": [
      "a is b: True\n"
     ]
    }
   ],
   "source": [
    "print(\"a is b:\", a is b)"
   ]
  },
  {
   "cell_type": "code",
   "execution_count": 597,
   "metadata": {},
   "outputs": [
    {
     "name": "stdout",
     "output_type": "stream",
     "text": [
      "a is c: False\n"
     ]
    }
   ],
   "source": [
    "print(\"a is c:\", a is c)"
   ]
  },
  {
   "cell_type": "code",
   "execution_count": 598,
   "metadata": {},
   "outputs": [
    {
     "name": "stdout",
     "output_type": "stream",
     "text": [
      "a is not c: True\n",
      "a is not b: False\n"
     ]
    }
   ],
   "source": [
    "print(\"a is not c:\", a is not c)\n",
    "print(\"a is not b:\", a is not b)"
   ]
  },
  {
   "cell_type": "code",
   "execution_count": 599,
   "metadata": {},
   "outputs": [
    {
     "name": "stdout",
     "output_type": "stream",
     "text": [
      "Dirección de memoria de a: 1746600809024\n",
      "Dirección de memoria de b: 1746600809024\n",
      "Dirección de memoria de c: 1746536913856\n"
     ]
    }
   ],
   "source": [
    "print(\"Dirección de memoria de a:\", id(a))\n",
    "print(\"Dirección de memoria de b:\", id(b))\n",
    "print(\"Dirección de memoria de c:\", id(c))"
   ]
  },
  {
   "cell_type": "markdown",
   "metadata": {},
   "source": [
    "**2.6 Operadores de pertencia**"
   ]
  },
  {
   "cell_type": "code",
   "execution_count": 600,
   "metadata": {},
   "outputs": [],
   "source": [
    "lista = [1, 2, 3, 4, 5]\n",
    "texto = \"Hola mundo\""
   ]
  },
  {
   "cell_type": "code",
   "execution_count": 601,
   "metadata": {},
   "outputs": [
    {
     "name": "stdout",
     "output_type": "stream",
     "text": [
      "True\n"
     ]
    }
   ],
   "source": [
    "print(2 in lista) "
   ]
  },
  {
   "cell_type": "code",
   "execution_count": 602,
   "metadata": {},
   "outputs": [
    {
     "name": "stdout",
     "output_type": "stream",
     "text": [
      "True\n"
     ]
    }
   ],
   "source": [
    "print(\"Hola\" in texto)"
   ]
  },
  {
   "cell_type": "code",
   "execution_count": 603,
   "metadata": {},
   "outputs": [
    {
     "name": "stdout",
     "output_type": "stream",
     "text": [
      "True\n"
     ]
    }
   ],
   "source": [
    "print(6 not in lista)"
   ]
  },
  {
   "cell_type": "code",
   "execution_count": 604,
   "metadata": {},
   "outputs": [
    {
     "name": "stdout",
     "output_type": "stream",
     "text": [
      "True\n"
     ]
    }
   ],
   "source": [
    "print(\"Python\" not in texto)"
   ]
  },
  {
   "cell_type": "markdown",
   "metadata": {},
   "source": [
    "<a id='sec_3'></a>\n",
    "## `3. Estructuras de Control de Flujo`\n",
    "\n",
    "En esta sección, aprenderás a utilizar las estructuras de control de flujo en Python, que permiten tomar decisiones y ejecutar bloques de código de manera repetitiva. Estas estructuras son esenciales para la lógica de cualquier programa.\n",
    "\n",
    "1. **Condicionales (`if`, `elif`, `else`):** Permiten ejecutar un bloque de código solo si se cumple una condición específica. Con estas, puedes tomar decisiones y dirigir el flujo del programa en función de condiciones lógicas.\n",
    "\n",
    "2. **Bucles (`for` y `while`):** Facilitan la repetición de bloques de código. `for` se utiliza comúnmente para iterar sobre una secuencia (como una lista o cadena), mientras que `while` repite un bloque de código mientras una condición sea verdadera.\n",
    "\n",
    "3. **Sentencias de Control (`break`, `continue`, `pass`):** Ayudan a modificar el flujo dentro de los bucles. `break` termina el bucle antes de que finalice su ejecución, `continue` omite la iteración actual y pasa a la siguiente, y `pass` se utiliza como marcador de posición sin realizar ninguna acción.\n",
    "\n",
    "Estas estructuras de control de flujo te permitirán crear programas dinámicos y responder a diferentes condiciones y situaciones en tu código.\n"
   ]
  },
  {
   "cell_type": "markdown",
   "metadata": {},
   "source": [
    "**3.1 Condicionales**"
   ]
  },
  {
   "cell_type": "code",
   "execution_count": 609,
   "metadata": {},
   "outputs": [
    {
     "name": "stdout",
     "output_type": "stream",
     "text": [
      "Eres menor de edad.\n"
     ]
    }
   ],
   "source": [
    "edad = 17\n",
    "\n",
    "if edad < 18:\n",
    "    print(\"Eres menor de edad.\")\n",
    "elif edad == 18:\n",
    "    print(\"Acabas de alcanzar la mayoría de edad.\")\n",
    "elif edad != 18:\n",
    "    print('No es cierto')\n",
    "else:\n",
    "    print(\"Eres mayor de edad.\")"
   ]
  },
  {
   "cell_type": "markdown",
   "metadata": {},
   "source": [
    "**3.2 Bucles (for y while)**"
   ]
  },
  {
   "cell_type": "code",
   "execution_count": 622,
   "metadata": {},
   "outputs": [
    {
     "name": "stdout",
     "output_type": "stream",
     "text": [
      "Número: l\n",
      "Número: a\n",
      "Número: n\n",
      "Número: d\n",
      "Número: e\n",
      "Número: r\n"
     ]
    }
   ],
   "source": [
    "numeros = 'lander'\n",
    "for numero in numeros:\n",
    "    print(\"Número:\", numero)"
   ]
  },
  {
   "cell_type": "code",
   "execution_count": 625,
   "metadata": {},
   "outputs": [
    {
     "name": "stdout",
     "output_type": "stream",
     "text": [
      "20\n",
      "17\n",
      "14\n",
      "11\n",
      "8\n",
      "5\n",
      "2\n"
     ]
    }
   ],
   "source": [
    "for i in range(20, 1, -3):\n",
    "    print(i)"
   ]
  },
  {
   "cell_type": "code",
   "execution_count": 629,
   "metadata": {},
   "outputs": [
    {
     "name": "stdout",
     "output_type": "stream",
     "text": [
      "Contador: 0\n",
      "Contador: 1\n",
      "Contador: 2\n",
      "Contador: 3\n",
      "Contador: 4\n",
      "Contador: 5\n"
     ]
    }
   ],
   "source": [
    "contador = 0\n",
    "while contador <= 5:\n",
    "    print(\"Contador:\", contador)\n",
    "    contador += 1"
   ]
  },
  {
   "cell_type": "markdown",
   "metadata": {},
   "source": [
    "**3.3 Sentencias de Control (break, continue, pass)**"
   ]
  },
  {
   "cell_type": "code",
   "execution_count": 484,
   "metadata": {},
   "outputs": [
    {
     "name": "stdout",
     "output_type": "stream",
     "text": [
      "0\n",
      "1\n",
      "2\n",
      "3\n",
      "4\n"
     ]
    }
   ],
   "source": [
    "for i in range(10):\n",
    "    if i == 5:\n",
    "        break  # Termina el bucle cuando i es igual a 5\n",
    "    print(i)"
   ]
  },
  {
   "cell_type": "code",
   "execution_count": 485,
   "metadata": {},
   "outputs": [
    {
     "name": "stdout",
     "output_type": "stream",
     "text": [
      "0\n",
      "1\n",
      "2\n",
      "4\n"
     ]
    }
   ],
   "source": [
    "for i in range(5):\n",
    "    if i == 3:\n",
    "        continue  \n",
    "    print(i)"
   ]
  },
  {
   "cell_type": "code",
   "execution_count": 486,
   "metadata": {},
   "outputs": [
    {
     "name": "stdout",
     "output_type": "stream",
     "text": [
      "0\n",
      "2\n",
      "4\n"
     ]
    }
   ],
   "source": [
    "for i in range(0,5,2):\n",
    "    if i == 2:\n",
    "        pass  # No realiza ninguna acción, solo se usa como marcador de posición\n",
    "    print(i)"
   ]
  },
  {
   "cell_type": "markdown",
   "metadata": {},
   "source": [
    "<a id='sec_4'></a>\n",
    "## `4. Estructuras de Datos`\n",
    "\n",
    "En esta sección, aprenderás sobre las estructuras de datos en Python, que te permiten almacenar, organizar y manipular información de diversas maneras. Estas estructuras son fundamentales para manejar datos de manera eficiente.\n",
    "\n",
    "1. **Listas:** Son colecciones ordenadas y modificables. Puedes almacenar múltiples elementos y acceder a ellos mediante índices. Las listas permiten agregar, eliminar y modificar elementos, y son ideales para secuencias de datos.\n",
    "\n",
    "2. **Tuplas:** Son colecciones ordenadas e inmutables, lo que significa que una vez creadas, no pueden ser modificadas. Las tuplas son útiles para almacenar datos que no deben cambiar, como coordenadas o configuraciones fijas.\n",
    "\n",
    "3. **Conjuntos (`set`):** Son colecciones desordenadas y sin elementos duplicados. Los conjuntos son ideales para operaciones de pertenencia y para eliminar duplicados de una colección.\n",
    "\n",
    "4. **Diccionarios (`dict`):** Son colecciones desordenadas de pares clave-valor. Permiten acceder rápidamente a valores mediante una clave. Los diccionarios son útiles para almacenar información asociativa, como datos de una persona o configuraciones de un sistema.\n"
   ]
  },
  {
   "cell_type": "markdown",
   "metadata": {},
   "source": [
    "**4.1 Listas**"
   ]
  },
  {
   "cell_type": "code",
   "execution_count": 487,
   "metadata": {},
   "outputs": [],
   "source": [
    "frutas = [\"manzana\", \"banana\", \"cereza\"]"
   ]
  },
  {
   "cell_type": "code",
   "execution_count": 634,
   "metadata": {},
   "outputs": [
    {
     "data": {
      "text/plain": [
       "['manzana', 'banana', 'cereza']"
      ]
     },
     "execution_count": 634,
     "metadata": {},
     "output_type": "execute_result"
    }
   ],
   "source": [
    "frutas"
   ]
  },
  {
   "cell_type": "code",
   "execution_count": 636,
   "metadata": {},
   "outputs": [
    {
     "data": {
      "text/plain": [
       "list"
      ]
     },
     "execution_count": 636,
     "metadata": {},
     "output_type": "execute_result"
    }
   ],
   "source": [
    "type(frutas)"
   ]
  },
  {
   "cell_type": "code",
   "execution_count": 646,
   "metadata": {},
   "outputs": [],
   "source": [
    "frutas = list([\"manzana\", \"banana\", \"cereza\",'mango','piña'])"
   ]
  },
  {
   "cell_type": "code",
   "execution_count": 647,
   "metadata": {},
   "outputs": [
    {
     "data": {
      "text/plain": [
       "['manzana', 'banana', 'cereza', 'mango', 'piña']"
      ]
     },
     "execution_count": 647,
     "metadata": {},
     "output_type": "execute_result"
    }
   ],
   "source": [
    "frutas"
   ]
  },
  {
   "cell_type": "code",
   "execution_count": 648,
   "metadata": {},
   "outputs": [
    {
     "data": {
      "text/plain": [
       "list"
      ]
     },
     "execution_count": 648,
     "metadata": {},
     "output_type": "execute_result"
    }
   ],
   "source": [
    "type(frutas)"
   ]
  },
  {
   "cell_type": "code",
   "execution_count": 652,
   "metadata": {},
   "outputs": [
    {
     "name": "stdout",
     "output_type": "stream",
     "text": [
      "['manzana', 'cereza', 'piña']\n"
     ]
    }
   ],
   "source": [
    "print(frutas[0:5:2])"
   ]
  },
  {
   "cell_type": "code",
   "execution_count": 654,
   "metadata": {},
   "outputs": [
    {
     "name": "stdout",
     "output_type": "stream",
     "text": [
      "['manzana', 'durazno', 'cereza', 'mango', 'piña']\n"
     ]
    }
   ],
   "source": [
    "frutas[1] = \"durazno\"\n",
    "print(frutas)"
   ]
  },
  {
   "cell_type": "code",
   "execution_count": 666,
   "metadata": {},
   "outputs": [
    {
     "name": "stdout",
     "output_type": "stream",
     "text": [
      "['manzana', 'durazno', 'cereza', 'mango', 'piña', 'naranja', 5, True, [5, 3], [5, 3], [5, 3], [5, 3], [5, 3], [5, 3], [5, 3], [5, 3], [5, 3]]\n"
     ]
    }
   ],
   "source": [
    "frutas.append([5,3])\n",
    "print(frutas)"
   ]
  },
  {
   "cell_type": "code",
   "execution_count": 667,
   "metadata": {},
   "outputs": [
    {
     "name": "stdout",
     "output_type": "stream",
     "text": [
      "['manzana', 'durazno', 'mango', 'piña', 'naranja', 5, True, [5, 3], [5, 3], [5, 3], [5, 3], [5, 3], [5, 3], [5, 3], [5, 3], [5, 3]]\n"
     ]
    }
   ],
   "source": [
    "frutas.remove(\"cereza\")\n",
    "print(frutas)"
   ]
  },
  {
   "cell_type": "code",
   "execution_count": 670,
   "metadata": {},
   "outputs": [],
   "source": [
    "name = 'Liner lander'"
   ]
  },
  {
   "cell_type": "code",
   "execution_count": 671,
   "metadata": {},
   "outputs": [
    {
     "data": {
      "text/plain": [
       "'liner lander'"
      ]
     },
     "execution_count": 671,
     "metadata": {},
     "output_type": "execute_result"
    }
   ],
   "source": [
    "name.lower()"
   ]
  },
  {
   "cell_type": "code",
   "execution_count": 672,
   "metadata": {},
   "outputs": [
    {
     "data": {
      "text/plain": [
       "'LINER LANDER'"
      ]
     },
     "execution_count": 672,
     "metadata": {},
     "output_type": "execute_result"
    }
   ],
   "source": [
    "name.upper()"
   ]
  },
  {
   "cell_type": "markdown",
   "metadata": {},
   "source": [
    "**4.2 Tuplas**"
   ]
  },
  {
   "cell_type": "markdown",
   "metadata": {},
   "source": [
    "> - Las tuplas son inmutables, por lo que no puedes modificar sus elementos.\n",
    "> - Intentar modificar una tupla generará un error:\n",
    "> - coordenadas[0] = 15  # Esto generaría un error"
   ]
  },
  {
   "cell_type": "code",
   "execution_count": 675,
   "metadata": {},
   "outputs": [
    {
     "name": "stdout",
     "output_type": "stream",
     "text": [
      "20\n"
     ]
    }
   ],
   "source": [
    "coordenadas = (10, 20)\n",
    "print(coordenadas[1])"
   ]
  },
  {
   "cell_type": "markdown",
   "metadata": {},
   "source": [
    "**4.2 Set**"
   ]
  },
  {
   "cell_type": "markdown",
   "metadata": {},
   "source": [
    "> - Los conjuntos no permiten duplicados"
   ]
  },
  {
   "cell_type": "code",
   "execution_count": null,
   "metadata": {},
   "outputs": [],
   "source": [
    "colores = {\"rojo\", \"verde\", \"azul\"}"
   ]
  },
  {
   "cell_type": "code",
   "execution_count": 683,
   "metadata": {},
   "outputs": [
    {
     "name": "stdout",
     "output_type": "stream",
     "text": [
      "{'verde', 'rojo', 'azul', 'amarillo'}\n"
     ]
    }
   ],
   "source": [
    "colores.add(\"amarillo\")\n",
    "print(colores)"
   ]
  },
  {
   "cell_type": "code",
   "execution_count": 686,
   "metadata": {},
   "outputs": [
    {
     "name": "stdout",
     "output_type": "stream",
     "text": [
      "{'rojo'}\n"
     ]
    }
   ],
   "source": [
    "colores.discard(\"amarillo\")\n",
    "print(colores) "
   ]
  },
  {
   "cell_type": "code",
   "execution_count": 689,
   "metadata": {},
   "outputs": [
    {
     "name": "stdout",
     "output_type": "stream",
     "text": [
      "{'azul', 'rojo'}\n"
     ]
    }
   ],
   "source": [
    "colores.add(\"rojo\")\n",
    "print(colores)"
   ]
  },
  {
   "cell_type": "markdown",
   "metadata": {},
   "source": [
    "**4.2 Diccionarios**"
   ]
  },
  {
   "cell_type": "code",
   "execution_count": 698,
   "metadata": {},
   "outputs": [],
   "source": [
    "estudiante = {\n",
    "    \"nombre\": \"lander\",\n",
    "    \"edad\": 21,\n",
    "    \"carrera\": \"Ingeniería\"\n",
    "}"
   ]
  },
  {
   "cell_type": "code",
   "execution_count": 699,
   "metadata": {},
   "outputs": [
    {
     "data": {
      "text/plain": [
       "{'nombre': 'lander', 'edad': 21, 'carrera': 'Ingeniería'}"
      ]
     },
     "execution_count": 699,
     "metadata": {},
     "output_type": "execute_result"
    }
   ],
   "source": [
    "estudiante"
   ]
  },
  {
   "cell_type": "code",
   "execution_count": 700,
   "metadata": {},
   "outputs": [
    {
     "name": "stdout",
     "output_type": "stream",
     "text": [
      "lander\n"
     ]
    }
   ],
   "source": [
    "print(estudiante[\"nombre\"])"
   ]
  },
  {
   "cell_type": "code",
   "execution_count": 703,
   "metadata": {},
   "outputs": [
    {
     "name": "stdout",
     "output_type": "stream",
     "text": [
      "{'nombre': 'paul', 'edad': 22, 'carrera': 'Ingeniería'}\n"
     ]
    }
   ],
   "source": [
    "estudiante[\"nombre\"] = \"paul\"\n",
    "print(estudiante)"
   ]
  },
  {
   "cell_type": "code",
   "execution_count": 705,
   "metadata": {},
   "outputs": [
    {
     "name": "stdout",
     "output_type": "stream",
     "text": [
      "{'nombre': 'paul', 'edad': 22, 'carrera': 'Ingeniería', 'universidad': 'UTEC'}\n"
     ]
    }
   ],
   "source": [
    "estudiante[\"universidad\"] = \"UTEC\"\n",
    "print(estudiante) "
   ]
  },
  {
   "cell_type": "code",
   "execution_count": 706,
   "metadata": {},
   "outputs": [
    {
     "name": "stdout",
     "output_type": "stream",
     "text": [
      "{'nombre': 'paul', 'edad': 22, 'universidad': 'UTEC'}\n"
     ]
    }
   ],
   "source": [
    "del estudiante[\"carrera\"]\n",
    "print(estudiante)"
   ]
  },
  {
   "cell_type": "markdown",
   "metadata": {},
   "source": [
    "<a id='sec_5'></a>\n",
    "## `5. Entrada y Salida de Datos`\n",
    "\n",
    "En esta sección, aprenderás sobre las operaciones de entrada y salida de datos en Python, que te permiten interactuar con los usuarios y manipular archivos. Estas operaciones son esenciales para obtener información, procesarla y mostrar resultados.\n",
    "\n",
    "1. **Entrada de datos**: Esto es útil para crear programas interactivos donde el usuario puede proporcionar información que el programa procesará.\n",
    "\n",
    "2. **Salida de datos**: Es esencial para dar feedback al usuario y mostrar los resultados de los cálculos o procesos realizados por el programa."
   ]
  },
  {
   "cell_type": "markdown",
   "metadata": {},
   "source": [
    "**5.1 Entraada de datos**"
   ]
  },
  {
   "cell_type": "code",
   "execution_count": 707,
   "metadata": {},
   "outputs": [
    {
     "name": "stdout",
     "output_type": "stream",
     "text": [
      "Hola, liner\n"
     ]
    }
   ],
   "source": [
    "nombre = input(\"Por favor, ingresa tu nombre: \")\n",
    "print(\"Hola, \" + nombre)"
   ]
  },
  {
   "cell_type": "code",
   "execution_count": 709,
   "metadata": {},
   "outputs": [
    {
     "name": "stdout",
     "output_type": "stream",
     "text": [
      "La suma de edad 22\n"
     ]
    }
   ],
   "source": [
    "edad_namuel = int(input(\"Por favor, ingresa edad de manuel: \"))\n",
    "edad_juan = int(input(\"Por favor, ingresa edad de juan: \"))\n",
    "\n",
    "suma =  edad_juan + edad_namuel\n",
    "print(f'La suma de edad {suma}')"
   ]
  },
  {
   "cell_type": "markdown",
   "metadata": {},
   "source": [
    "**5.2 Salida de datos**"
   ]
  },
  {
   "cell_type": "code",
   "execution_count": 710,
   "metadata": {},
   "outputs": [
    {
     "name": "stdout",
     "output_type": "stream",
     "text": [
      "Tienes 25 años.\n"
     ]
    }
   ],
   "source": [
    "edad = 25\n",
    "print(\"Tienes\", edad, \"años.\")"
   ]
  },
  {
   "cell_type": "markdown",
   "metadata": {},
   "source": [
    "<a id='sec_5'></a>\n",
    "## `6. Introducción a la libreria Pandas`\n",
    "\n",
    "En esta sección, aprenderás sobre la librería `pandas` en Python, una herramienta poderosa para la manipulación y análisis de datos. `pandas` permite trabajar con datos en estructuras como tablas (DataFrames), que son fáciles de manipular, filtrar y transformar.\n",
    "\n",
    "1. **Carga de datos**: `pandas` permite leer datos desde diversas fuentes, como archivos CSV, Excel, SQL y otros formatos. Esto facilita la importación de grandes volúmenes de datos en un formato estructurado para su análisis.\n",
    "\n",
    "2. **Manipulación de datos**: Con `pandas`, puedes realizar operaciones como seleccionar, filtrar y transformar datos. Puedes aplicar funciones, agrupar datos y realizar cálculos en columnas específicas, lo que es fundamental para el análisis y limpieza de datos.\n",
    "\n",
    "Estas capacidades hacen de `pandas` una herramienta esencial en el análisis de datos en Python, permitiéndote manejar grandes cantidades de información de manera rápida y eficaz.\n"
   ]
  },
  {
   "cell_type": "markdown",
   "metadata": {},
   "source": [
    "**6.1 Carga de datos**"
   ]
  },
  {
   "cell_type": "markdown",
   "metadata": {},
   "source": [
    "**6.1.1 Diccionario de datos disponibles**\n",
    "\n",
    "| **Clave**      | **Descripción**                                                             | **Tipo de dato** |\n",
    "|----------------|-----------------------------------------------------------------------------|------------------|\n",
    "| PassengerId    | Identificador único para cada pasajero                                      | Int              |\n",
    "| Survived       | Indica si el pasajero sobrevivió (1: sí, 0: no)                             | Int              |\n",
    "| Pclass         | Clase del pasajero (1: Primera clase, 2: Segunda clase, 3: Tercera clase)   | Int              |\n",
    "| Name           | Nombre completo del pasajero                                                | Object           |\n",
    "| Sex            | Género del pasajero (male: masculino, female: femenino)                     | Object           |\n",
    "| Age            | Edad del pasajero                                                           | Float            |\n",
    "| SibSp          | Número de hermanos/esposas a bordo                                          | Int              |\n",
    "| Parch          | Número de padres/hijos a bordo                                              | Int              |\n",
    "| Ticket         | Número de ticket del pasajero                                               | Object           |\n",
    "| Fare           | Tarifa pagada por el pasajero                                               | Float            |\n",
    "| Cabin          | Número de cabina asignada (si aplica)                                       | Object           |\n",
    "| Embarked       | Puerto de embarque (C: Cherbourg, Q: Queenstown, S: Southampton)            | Object           |\n"
   ]
  },
  {
   "cell_type": "code",
   "execution_count": 713,
   "metadata": {},
   "outputs": [],
   "source": [
    "import pandas as pd"
   ]
  },
  {
   "cell_type": "code",
   "execution_count": 720,
   "metadata": {},
   "outputs": [
    {
     "data": {
      "text/html": [
       "<div>\n",
       "<style scoped>\n",
       "    .dataframe tbody tr th:only-of-type {\n",
       "        vertical-align: middle;\n",
       "    }\n",
       "\n",
       "    .dataframe tbody tr th {\n",
       "        vertical-align: top;\n",
       "    }\n",
       "\n",
       "    .dataframe thead th {\n",
       "        text-align: right;\n",
       "    }\n",
       "</style>\n",
       "<table border=\"1\" class=\"dataframe\">\n",
       "  <thead>\n",
       "    <tr style=\"text-align: right;\">\n",
       "      <th></th>\n",
       "      <th>PassengerId</th>\n",
       "      <th>Survived</th>\n",
       "      <th>Pclass</th>\n",
       "      <th>Name</th>\n",
       "      <th>Sex</th>\n",
       "      <th>Age</th>\n",
       "      <th>SibSp</th>\n",
       "      <th>Parch</th>\n",
       "      <th>Ticket</th>\n",
       "      <th>Fare</th>\n",
       "      <th>Cabin</th>\n",
       "      <th>Embarked</th>\n",
       "    </tr>\n",
       "  </thead>\n",
       "  <tbody>\n",
       "    <tr>\n",
       "      <th>0</th>\n",
       "      <td>1</td>\n",
       "      <td>0</td>\n",
       "      <td>3</td>\n",
       "      <td>Braund, Mr. Owen Harris</td>\n",
       "      <td>male</td>\n",
       "      <td>22.0</td>\n",
       "      <td>1</td>\n",
       "      <td>0</td>\n",
       "      <td>A/5 21171</td>\n",
       "      <td>7.2500</td>\n",
       "      <td>NaN</td>\n",
       "      <td>S</td>\n",
       "    </tr>\n",
       "    <tr>\n",
       "      <th>1</th>\n",
       "      <td>2</td>\n",
       "      <td>1</td>\n",
       "      <td>1</td>\n",
       "      <td>Cumings, Mrs. John Bradley (Florence Briggs Th...</td>\n",
       "      <td>female</td>\n",
       "      <td>38.0</td>\n",
       "      <td>1</td>\n",
       "      <td>0</td>\n",
       "      <td>PC 17599</td>\n",
       "      <td>71.2833</td>\n",
       "      <td>C85</td>\n",
       "      <td>C</td>\n",
       "    </tr>\n",
       "    <tr>\n",
       "      <th>2</th>\n",
       "      <td>3</td>\n",
       "      <td>1</td>\n",
       "      <td>3</td>\n",
       "      <td>Heikkinen, Miss. Laina</td>\n",
       "      <td>female</td>\n",
       "      <td>26.0</td>\n",
       "      <td>0</td>\n",
       "      <td>0</td>\n",
       "      <td>STON/O2. 3101282</td>\n",
       "      <td>7.9250</td>\n",
       "      <td>NaN</td>\n",
       "      <td>S</td>\n",
       "    </tr>\n",
       "    <tr>\n",
       "      <th>3</th>\n",
       "      <td>4</td>\n",
       "      <td>1</td>\n",
       "      <td>1</td>\n",
       "      <td>Futrelle, Mrs. Jacques Heath (Lily May Peel)</td>\n",
       "      <td>female</td>\n",
       "      <td>35.0</td>\n",
       "      <td>1</td>\n",
       "      <td>0</td>\n",
       "      <td>113803</td>\n",
       "      <td>53.1000</td>\n",
       "      <td>C123</td>\n",
       "      <td>S</td>\n",
       "    </tr>\n",
       "    <tr>\n",
       "      <th>4</th>\n",
       "      <td>5</td>\n",
       "      <td>0</td>\n",
       "      <td>3</td>\n",
       "      <td>Allen, Mr. William Henry</td>\n",
       "      <td>male</td>\n",
       "      <td>35.0</td>\n",
       "      <td>0</td>\n",
       "      <td>0</td>\n",
       "      <td>373450</td>\n",
       "      <td>8.0500</td>\n",
       "      <td>NaN</td>\n",
       "      <td>S</td>\n",
       "    </tr>\n",
       "  </tbody>\n",
       "</table>\n",
       "</div>"
      ],
      "text/plain": [
       "   PassengerId  Survived  Pclass  \\\n",
       "0            1         0       3   \n",
       "1            2         1       1   \n",
       "2            3         1       3   \n",
       "3            4         1       1   \n",
       "4            5         0       3   \n",
       "\n",
       "                                                Name     Sex   Age  SibSp  \\\n",
       "0                            Braund, Mr. Owen Harris    male  22.0      1   \n",
       "1  Cumings, Mrs. John Bradley (Florence Briggs Th...  female  38.0      1   \n",
       "2                             Heikkinen, Miss. Laina  female  26.0      0   \n",
       "3       Futrelle, Mrs. Jacques Heath (Lily May Peel)  female  35.0      1   \n",
       "4                           Allen, Mr. William Henry    male  35.0      0   \n",
       "\n",
       "   Parch            Ticket     Fare Cabin Embarked  \n",
       "0      0         A/5 21171   7.2500   NaN        S  \n",
       "1      0          PC 17599  71.2833   C85        C  \n",
       "2      0  STON/O2. 3101282   7.9250   NaN        S  \n",
       "3      0            113803  53.1000  C123        S  \n",
       "4      0            373450   8.0500   NaN        S  "
      ]
     },
     "execution_count": 720,
     "metadata": {},
     "output_type": "execute_result"
    }
   ],
   "source": [
    "df = pd.read_csv('data/titanic.csv')\n",
    "df.head(5)"
   ]
  },
  {
   "cell_type": "code",
   "execution_count": 723,
   "metadata": {},
   "outputs": [
    {
     "name": "stdout",
     "output_type": "stream",
     "text": [
      "El número de filas es: 891\n",
      "El número de columnas es: 12\n"
     ]
    }
   ],
   "source": [
    "print(f'El número de filas es: {df.shape[0]}')\n",
    "print(f'El número de columnas es: {df.shape[1]}')"
   ]
  },
  {
   "cell_type": "markdown",
   "metadata": {},
   "source": [
    "**Entender qué tipos de datos tenemos en cada columna**"
   ]
  },
  {
   "cell_type": "code",
   "execution_count": 724,
   "metadata": {},
   "outputs": [
    {
     "name": "stdout",
     "output_type": "stream",
     "text": [
      "<class 'pandas.core.frame.DataFrame'>\n",
      "RangeIndex: 891 entries, 0 to 890\n",
      "Data columns (total 12 columns):\n",
      " #   Column       Non-Null Count  Dtype  \n",
      "---  ------       --------------  -----  \n",
      " 0   PassengerId  891 non-null    int64  \n",
      " 1   Survived     891 non-null    int64  \n",
      " 2   Pclass       891 non-null    int64  \n",
      " 3   Name         891 non-null    object \n",
      " 4   Sex          891 non-null    object \n",
      " 5   Age          714 non-null    float64\n",
      " 6   SibSp        891 non-null    int64  \n",
      " 7   Parch        891 non-null    int64  \n",
      " 8   Ticket       891 non-null    object \n",
      " 9   Fare         891 non-null    float64\n",
      " 10  Cabin        204 non-null    object \n",
      " 11  Embarked     889 non-null    object \n",
      "dtypes: float64(2), int64(5), object(5)\n",
      "memory usage: 83.7+ KB\n"
     ]
    }
   ],
   "source": [
    "df.info()"
   ]
  },
  {
   "cell_type": "markdown",
   "metadata": {},
   "source": [
    ">**Observación**\n",
    "> - Al poder observar a mas detalle el tipo de dato que tiene cada columna, se pudo ver que exiten datos de tipo `int`  y `Object`.\n",
    "> - Al poder observar a mas detalle se tiene en cantida de tipo de dato `float64(2)`, `int64(5)`, `object(5)`"
   ]
  },
  {
   "cell_type": "markdown",
   "metadata": {},
   "source": [
    "**Verificar si hay datos faltantes y valores duplicados**"
   ]
  },
  {
   "cell_type": "code",
   "execution_count": 727,
   "metadata": {},
   "outputs": [
    {
     "data": {
      "text/plain": [
       "0"
      ]
     },
     "execution_count": 727,
     "metadata": {},
     "output_type": "execute_result"
    }
   ],
   "source": [
    "df.duplicated().sum()"
   ]
  },
  {
   "cell_type": "code",
   "execution_count": 728,
   "metadata": {},
   "outputs": [],
   "source": [
    "df =  df.drop_duplicates()"
   ]
  },
  {
   "cell_type": "markdown",
   "metadata": {},
   "source": [
    ">**Observación**\n",
    "> - Al observar se pudo evidenciar que `no hay valores duplicados`."
   ]
  },
  {
   "cell_type": "code",
   "execution_count": 729,
   "metadata": {},
   "outputs": [
    {
     "name": "stdout",
     "output_type": "stream",
     "text": [
      "<class 'pandas.core.frame.DataFrame'>\n",
      "RangeIndex: 891 entries, 0 to 890\n",
      "Data columns (total 12 columns):\n",
      " #   Column       Non-Null Count  Dtype  \n",
      "---  ------       --------------  -----  \n",
      " 0   PassengerId  891 non-null    int64  \n",
      " 1   Survived     891 non-null    int64  \n",
      " 2   Pclass       891 non-null    int64  \n",
      " 3   Name         891 non-null    object \n",
      " 4   Sex          891 non-null    object \n",
      " 5   Age          714 non-null    float64\n",
      " 6   SibSp        891 non-null    int64  \n",
      " 7   Parch        891 non-null    int64  \n",
      " 8   Ticket       891 non-null    object \n",
      " 9   Fare         891 non-null    float64\n",
      " 10  Cabin        204 non-null    object \n",
      " 11  Embarked     889 non-null    object \n",
      "dtypes: float64(2), int64(5), object(5)\n",
      "memory usage: 83.7+ KB\n"
     ]
    }
   ],
   "source": [
    "df.info()"
   ]
  },
  {
   "cell_type": "markdown",
   "metadata": {},
   "source": [
    ">**Observación**\n",
    "> - Al observar se pudo evidenciar que `si hay valores nulos.`"
   ]
  },
  {
   "cell_type": "code",
   "execution_count": 730,
   "metadata": {},
   "outputs": [],
   "source": [
    "df = df.drop(columns = ['Cabin','PassengerId'])"
   ]
  },
  {
   "cell_type": "code",
   "execution_count": 731,
   "metadata": {},
   "outputs": [
    {
     "name": "stdout",
     "output_type": "stream",
     "text": [
      "<class 'pandas.core.frame.DataFrame'>\n",
      "RangeIndex: 891 entries, 0 to 890\n",
      "Data columns (total 10 columns):\n",
      " #   Column    Non-Null Count  Dtype  \n",
      "---  ------    --------------  -----  \n",
      " 0   Survived  891 non-null    int64  \n",
      " 1   Pclass    891 non-null    int64  \n",
      " 2   Name      891 non-null    object \n",
      " 3   Sex       891 non-null    object \n",
      " 4   Age       714 non-null    float64\n",
      " 5   SibSp     891 non-null    int64  \n",
      " 6   Parch     891 non-null    int64  \n",
      " 7   Ticket    891 non-null    object \n",
      " 8   Fare      891 non-null    float64\n",
      " 9   Embarked  889 non-null    object \n",
      "dtypes: float64(2), int64(4), object(4)\n",
      "memory usage: 69.7+ KB\n"
     ]
    }
   ],
   "source": [
    "df.info()"
   ]
  },
  {
   "cell_type": "code",
   "execution_count": 732,
   "metadata": {},
   "outputs": [],
   "source": [
    "promedio_edad = df['Age'].mean()\n",
    "moda_embarked = df['Embarked'].mode()"
   ]
  },
  {
   "cell_type": "code",
   "execution_count": 733,
   "metadata": {},
   "outputs": [
    {
     "data": {
      "text/plain": [
       "0    S\n",
       "Name: Embarked, dtype: object"
      ]
     },
     "execution_count": 733,
     "metadata": {},
     "output_type": "execute_result"
    }
   ],
   "source": [
    "moda_embarked"
   ]
  },
  {
   "cell_type": "code",
   "execution_count": 734,
   "metadata": {},
   "outputs": [],
   "source": [
    "df['Age'] = df['Age'].fillna(promedio_edad)\n",
    "df['Embarked'] = df['Embarked'].fillna('S')"
   ]
  },
  {
   "cell_type": "code",
   "execution_count": 735,
   "metadata": {},
   "outputs": [
    {
     "name": "stdout",
     "output_type": "stream",
     "text": [
      "<class 'pandas.core.frame.DataFrame'>\n",
      "RangeIndex: 891 entries, 0 to 890\n",
      "Data columns (total 10 columns):\n",
      " #   Column    Non-Null Count  Dtype  \n",
      "---  ------    --------------  -----  \n",
      " 0   Survived  891 non-null    int64  \n",
      " 1   Pclass    891 non-null    int64  \n",
      " 2   Name      891 non-null    object \n",
      " 3   Sex       891 non-null    object \n",
      " 4   Age       891 non-null    float64\n",
      " 5   SibSp     891 non-null    int64  \n",
      " 6   Parch     891 non-null    int64  \n",
      " 7   Ticket    891 non-null    object \n",
      " 8   Fare      891 non-null    float64\n",
      " 9   Embarked  891 non-null    object \n",
      "dtypes: float64(2), int64(4), object(4)\n",
      "memory usage: 69.7+ KB\n"
     ]
    }
   ],
   "source": [
    "df.info()"
   ]
  },
  {
   "cell_type": "markdown",
   "metadata": {},
   "source": [
    ">**Observación**\n",
    "> - Al observar se pudo evidenciar que `no hay valores nulos.`"
   ]
  },
  {
   "cell_type": "markdown",
   "metadata": {},
   "source": [
    "**Verificar si hay datos outliers mediante gráficos**"
   ]
  },
  {
   "cell_type": "code",
   "execution_count": 737,
   "metadata": {},
   "outputs": [],
   "source": [
    "# Carpeta para guardar las imágenes\n",
    "import os\n",
    "output_dir = './Gráficos_Outliers'\n",
    "os.makedirs(output_dir, exist_ok=True)"
   ]
  },
  {
   "cell_type": "code",
   "execution_count": 738,
   "metadata": {},
   "outputs": [
    {
     "name": "stdout",
     "output_type": "stream",
     "text": [
      "Gráficos guardados con éxito!\n"
     ]
    }
   ],
   "source": [
    "import matplotlib.pyplot as plt\n",
    "import seaborn as sns\n",
    "numeric_columns = df.select_dtypes(include='number').columns.to_list()\n",
    "\n",
    "plt.style.use('ggplot')\n",
    "sns.set_context(\"talk\")\n",
    "\n",
    "for column in numeric_columns:\n",
    "    plt.figure(figsize=(10, 6)) \n",
    "    sns.boxplot(y=df[column], color='skyblue') \n",
    "    plt.title(f'Boxplot de {column}', fontsize=16)  \n",
    "    plt.ylabel('cantidad', fontsize=14) \n",
    "    plt.xlabel(column, fontsize=14)\n",
    "    plt.grid(True, linestyle='--', alpha=0.7) \n",
    "    plt.savefig(f'{output_dir}/Boxplot_de_{column}.png', bbox_inches='tight') \n",
    "    plt.close()\n",
    "\n",
    "print(f'Gráficos guardados con éxito!')"
   ]
  },
  {
   "cell_type": "markdown",
   "metadata": {},
   "source": [
    "**Realizar el resumen estadístico**"
   ]
  },
  {
   "cell_type": "code",
   "execution_count": 518,
   "metadata": {},
   "outputs": [
    {
     "data": {
      "text/html": [
       "<div>\n",
       "<style scoped>\n",
       "    .dataframe tbody tr th:only-of-type {\n",
       "        vertical-align: middle;\n",
       "    }\n",
       "\n",
       "    .dataframe tbody tr th {\n",
       "        vertical-align: top;\n",
       "    }\n",
       "\n",
       "    .dataframe thead th {\n",
       "        text-align: right;\n",
       "    }\n",
       "</style>\n",
       "<table border=\"1\" class=\"dataframe\">\n",
       "  <thead>\n",
       "    <tr style=\"text-align: right;\">\n",
       "      <th></th>\n",
       "      <th>count</th>\n",
       "      <th>mean</th>\n",
       "      <th>std</th>\n",
       "      <th>min</th>\n",
       "      <th>25%</th>\n",
       "      <th>50%</th>\n",
       "      <th>75%</th>\n",
       "      <th>max</th>\n",
       "    </tr>\n",
       "  </thead>\n",
       "  <tbody>\n",
       "    <tr>\n",
       "      <th>Survived</th>\n",
       "      <td>891.0</td>\n",
       "      <td>0.383838</td>\n",
       "      <td>0.486592</td>\n",
       "      <td>0.00</td>\n",
       "      <td>0.0000</td>\n",
       "      <td>0.000000</td>\n",
       "      <td>1.0</td>\n",
       "      <td>1.0000</td>\n",
       "    </tr>\n",
       "    <tr>\n",
       "      <th>Pclass</th>\n",
       "      <td>891.0</td>\n",
       "      <td>2.308642</td>\n",
       "      <td>0.836071</td>\n",
       "      <td>1.00</td>\n",
       "      <td>2.0000</td>\n",
       "      <td>3.000000</td>\n",
       "      <td>3.0</td>\n",
       "      <td>3.0000</td>\n",
       "    </tr>\n",
       "    <tr>\n",
       "      <th>Age</th>\n",
       "      <td>891.0</td>\n",
       "      <td>29.699118</td>\n",
       "      <td>13.002015</td>\n",
       "      <td>0.42</td>\n",
       "      <td>22.0000</td>\n",
       "      <td>29.699118</td>\n",
       "      <td>35.0</td>\n",
       "      <td>80.0000</td>\n",
       "    </tr>\n",
       "    <tr>\n",
       "      <th>SibSp</th>\n",
       "      <td>891.0</td>\n",
       "      <td>0.523008</td>\n",
       "      <td>1.102743</td>\n",
       "      <td>0.00</td>\n",
       "      <td>0.0000</td>\n",
       "      <td>0.000000</td>\n",
       "      <td>1.0</td>\n",
       "      <td>8.0000</td>\n",
       "    </tr>\n",
       "    <tr>\n",
       "      <th>Parch</th>\n",
       "      <td>891.0</td>\n",
       "      <td>0.381594</td>\n",
       "      <td>0.806057</td>\n",
       "      <td>0.00</td>\n",
       "      <td>0.0000</td>\n",
       "      <td>0.000000</td>\n",
       "      <td>0.0</td>\n",
       "      <td>6.0000</td>\n",
       "    </tr>\n",
       "    <tr>\n",
       "      <th>Fare</th>\n",
       "      <td>891.0</td>\n",
       "      <td>32.204208</td>\n",
       "      <td>49.693429</td>\n",
       "      <td>0.00</td>\n",
       "      <td>7.9104</td>\n",
       "      <td>14.454200</td>\n",
       "      <td>31.0</td>\n",
       "      <td>512.3292</td>\n",
       "    </tr>\n",
       "  </tbody>\n",
       "</table>\n",
       "</div>"
      ],
      "text/plain": [
       "          count       mean        std   min      25%        50%   75%  \\\n",
       "Survived  891.0   0.383838   0.486592  0.00   0.0000   0.000000   1.0   \n",
       "Pclass    891.0   2.308642   0.836071  1.00   2.0000   3.000000   3.0   \n",
       "Age       891.0  29.699118  13.002015  0.42  22.0000  29.699118  35.0   \n",
       "SibSp     891.0   0.523008   1.102743  0.00   0.0000   0.000000   1.0   \n",
       "Parch     891.0   0.381594   0.806057  0.00   0.0000   0.000000   0.0   \n",
       "Fare      891.0  32.204208  49.693429  0.00   7.9104  14.454200  31.0   \n",
       "\n",
       "               max  \n",
       "Survived    1.0000  \n",
       "Pclass      3.0000  \n",
       "Age        80.0000  \n",
       "SibSp       8.0000  \n",
       "Parch       6.0000  \n",
       "Fare      512.3292  "
      ]
     },
     "execution_count": 518,
     "metadata": {},
     "output_type": "execute_result"
    }
   ],
   "source": [
    "df.describe().transpose()"
   ]
  },
  {
   "cell_type": "markdown",
   "metadata": {},
   "source": [
    "**Consejos Adicionales**"
   ]
  },
  {
   "cell_type": "markdown",
   "metadata": {},
   "source": [
    "### 1. Organización de Proyectos\n",
    "- **Estructura de Carpetas**: Mantener una estructura de carpetas clara en tu proyecto, como:\n",
    "  - `/data` para los datos,\n",
    "  - `/scripts` para los códigos,\n",
    "  - `/notebooks` para cuadernos Jupyter.\n",
    "- **Uso de Git**: Utiliza Git para el control de versiones.\n",
    "- **Documentación del Código**: Agrega comentarios para que sea comprensible lo que se esta realizando."
   ]
  },
  {
   "cell_type": "markdown",
   "metadata": {},
   "source": [
    "### 2. Uso de Bibliotecas Comunes\n",
    "- **Pandas para Manipulación de Datos**: \n",
    "  - Ejemplos básicos: `df.head()`, `df.describe()`, y operaciones de filtrado y agrupación.\n",
    "- **Matplotlib y Seaborn para Visualización**: \n",
    "  - Visualización básica: gráficos de barras, líneas, histogramas para entender mejor los datos.\n",
    "- **NumPy para Operaciones Numéricas**: Utiliza NumPy para realizar cálculos rápidos en grandes conjuntos de datos."
   ]
  },
  {
   "cell_type": "markdown",
   "metadata": {},
   "source": [
    "### 3. Recursos de Aprendizaje Continuo\n",
    "- **Documentación Oficial**: Consultar la documentación oficial de las bibliotecas, es una fuente confiable y completa.\n",
    "- **Foros y Comunidades**: Participa en comunidades como Stack Overflow para hacer preguntas y aprender de otros.\n",
    "- **Ejemplos y Práctica**: Realiza proyectos pequeños, como análisis de conjuntos de datos públicos, para afianzar el aprendizaje."
   ]
  },
  {
   "cell_type": "markdown",
   "metadata": {},
   "source": [
    "### 4. Recomendación de Herramientas\n",
    "- **Jupyter Notebook**: Recomendado para análisis y visualización interactivos.\n",
    "- **VS Code**: Es un editor de código ligero con soporte para Python.\n",
    "- **Bibliotecas Populares**: Pandas, NumPy, y Scikit-Learn para análisis de datos y Machine Learning."
   ]
  }
 ],
 "metadata": {
  "kernelspec": {
   "display_name": "Python 3",
   "language": "python",
   "name": "python3"
  },
  "language_info": {
   "codemirror_mode": {
    "name": "ipython",
    "version": 3
   },
   "file_extension": ".py",
   "mimetype": "text/x-python",
   "name": "python",
   "nbconvert_exporter": "python",
   "pygments_lexer": "ipython3",
   "version": "3.11.9"
  }
 },
 "nbformat": 4,
 "nbformat_minor": 2
}
